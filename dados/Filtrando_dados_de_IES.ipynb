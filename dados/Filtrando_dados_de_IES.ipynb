{
  "nbformat": 4,
  "nbformat_minor": 0,
  "metadata": {
    "colab": {
      "name": "Filtrando dados de IES.ipynb",
      "provenance": [],
      "authorship_tag": "ABX9TyNcr3wtO360JpAjmw0FMSzD",
      "include_colab_link": true
    },
    "kernelspec": {
      "name": "python3",
      "display_name": "Python 3"
    },
    "language_info": {
      "name": "python"
    }
  },
  "cells": [
    {
      "cell_type": "markdown",
      "metadata": {
        "id": "view-in-github",
        "colab_type": "text"
      },
      "source": [
        "<a href=\"https://colab.research.google.com/github/roxacarv/AnaliseDeDadosEIA/blob/master/dados/Filtrando_dados_de_IES.ipynb\" target=\"_parent\"><img src=\"https://colab.research.google.com/assets/colab-badge.svg\" alt=\"Open In Colab\"/></a>"
      ]
    },
    {
      "cell_type": "markdown",
      "metadata": {
        "id": "MW48Pj5A-cio"
      },
      "source": [
        "# Mesclando categorias administrativas"
      ]
    },
    {
      "cell_type": "code",
      "metadata": {
        "id": "3HQC_tB65cLL"
      },
      "source": [
        "import numpy as np\n",
        "import pandas as pd\n",
        "\n",
        "df = pd.read_csv(\"dados_ies_sem_nan_sem_privadas_especial_utf8.csv\", index_col=0, encoding=\"latin-1\")\n",
        "\n",
        "for c in range(len(df[\"TIPO_CATEGORIA_ADM\"])):\n",
        "  if df.iat[c, 2] == \"PÃºblica Municipal\":\n",
        "    df.iat[c, 2] = \"PÃºblica Estadual\"\n",
        "\n",
        "for c in range(len(df[\"TIPO_CATEGORIA_ADM\"])):\n",
        "  if df.iat[c, 2] == \"PÃºblica Estadual\":\n",
        "    df.iat[c, 2] = \"Sub-Nacional\"\n",
        "  if df.iat[c, 2] == \"PÃºblica Federal\":\n",
        "    df.iat[c, 2] = \"Nacional\"\n",
        "\n",
        "df.to_csv(\"dados_ies_novas_categorias_utf8.csv\", encoding=\"utf8\")"
      ],
      "execution_count": 67,
      "outputs": []
    },
    {
      "cell_type": "markdown",
      "metadata": {
        "id": "q657S80I-WPM"
      },
      "source": [
        "# Gerando categorias por quantidade de recursos"
      ]
    },
    {
      "cell_type": "code",
      "metadata": {
        "colab": {
          "base_uri": "https://localhost:8080/",
          "height": 257
        },
        "id": "QZEPgk5C-bja",
        "outputId": "9c359614-98c2-4494-d883-78fc2c55ec5d"
      },
      "source": [
        "df = pd.read_csv(\"dados_ies_sem_nan_sem_privadas_especial_utf8.csv\", index_col=0, encoding=\"latin-1\")\n",
        "df.head()"
      ],
      "execution_count": 149,
      "outputs": [
        {
          "output_type": "execute_result",
          "data": {
            "text/html": [
              "<div>\n",
              "<style scoped>\n",
              "    .dataframe tbody tr th:only-of-type {\n",
              "        vertical-align: middle;\n",
              "    }\n",
              "\n",
              "    .dataframe tbody tr th {\n",
              "        vertical-align: top;\n",
              "    }\n",
              "\n",
              "    .dataframe thead th {\n",
              "        text-align: right;\n",
              "    }\n",
              "</style>\n",
              "<table border=\"1\" class=\"dataframe\">\n",
              "  <thead>\n",
              "    <tr style=\"text-align: right;\">\n",
              "      <th></th>\n",
              "      <th>NUM_CURSOS</th>\n",
              "      <th>CODIGO_IES</th>\n",
              "      <th>TIPO_CATEGORIA_ADM</th>\n",
              "      <th>REGIAO</th>\n",
              "      <th>UF</th>\n",
              "      <th>DEFICIENCIA_FISICA</th>\n",
              "      <th>DEFICIENCIA_AUDITIVA</th>\n",
              "      <th>DEFICIENCIA_VISUAL</th>\n",
              "      <th>DEFICIENCIA_COGNITIVA</th>\n",
              "      <th>DEFICIENCIA_MULTIPLA</th>\n",
              "      <th>RECURSOS_DEF_FISICA</th>\n",
              "      <th>RECURSOS_DEF_VISUAL</th>\n",
              "      <th>RECURSOS_DEF_AUDITIVA</th>\n",
              "      <th>RECURSOS_DEF_COGNITIVA</th>\n",
              "      <th>RECURSOS_DEF_MULTIPLA</th>\n",
              "    </tr>\n",
              "  </thead>\n",
              "  <tbody>\n",
              "    <tr>\n",
              "      <th>0</th>\n",
              "      <td>114</td>\n",
              "      <td>1</td>\n",
              "      <td>PÃºblica Federal</td>\n",
              "      <td>Centro-Oeste</td>\n",
              "      <td>Mato Grosso</td>\n",
              "      <td>92.0</td>\n",
              "      <td>58.0</td>\n",
              "      <td>44.0</td>\n",
              "      <td>17.0</td>\n",
              "      <td>2.0</td>\n",
              "      <td>0.271930</td>\n",
              "      <td>0.429825</td>\n",
              "      <td>0.938596</td>\n",
              "      <td>0.201754</td>\n",
              "      <td>0.201754</td>\n",
              "    </tr>\n",
              "    <tr>\n",
              "      <th>1</th>\n",
              "      <td>149</td>\n",
              "      <td>2</td>\n",
              "      <td>PÃºblica Federal</td>\n",
              "      <td>Centro-Oeste</td>\n",
              "      <td>Distrito Federal</td>\n",
              "      <td>39.0</td>\n",
              "      <td>32.0</td>\n",
              "      <td>27.0</td>\n",
              "      <td>32.0</td>\n",
              "      <td>8.0</td>\n",
              "      <td>2.778523</td>\n",
              "      <td>4.167785</td>\n",
              "      <td>3.704698</td>\n",
              "      <td>1.852349</td>\n",
              "      <td>1.852349</td>\n",
              "    </tr>\n",
              "    <tr>\n",
              "      <th>2</th>\n",
              "      <td>116</td>\n",
              "      <td>3</td>\n",
              "      <td>PÃºblica Federal</td>\n",
              "      <td>Nordeste</td>\n",
              "      <td>Sergipe</td>\n",
              "      <td>190.0</td>\n",
              "      <td>56.0</td>\n",
              "      <td>94.0</td>\n",
              "      <td>16.0</td>\n",
              "      <td>2.0</td>\n",
              "      <td>0.775862</td>\n",
              "      <td>1.215517</td>\n",
              "      <td>1.793103</td>\n",
              "      <td>0.534483</td>\n",
              "      <td>0.534483</td>\n",
              "    </tr>\n",
              "    <tr>\n",
              "      <th>3</th>\n",
              "      <td>107</td>\n",
              "      <td>4</td>\n",
              "      <td>PÃºblica Federal</td>\n",
              "      <td>Norte</td>\n",
              "      <td>Amazonas</td>\n",
              "      <td>64.0</td>\n",
              "      <td>33.0</td>\n",
              "      <td>54.0</td>\n",
              "      <td>60.0</td>\n",
              "      <td>2.0</td>\n",
              "      <td>0.000000</td>\n",
              "      <td>0.000000</td>\n",
              "      <td>0.719626</td>\n",
              "      <td>0.000000</td>\n",
              "      <td>0.000000</td>\n",
              "    </tr>\n",
              "    <tr>\n",
              "      <th>4</th>\n",
              "      <td>100</td>\n",
              "      <td>5</td>\n",
              "      <td>PÃºblica Federal</td>\n",
              "      <td>Nordeste</td>\n",
              "      <td>PiauÃ­</td>\n",
              "      <td>137.0</td>\n",
              "      <td>50.0</td>\n",
              "      <td>73.0</td>\n",
              "      <td>36.0</td>\n",
              "      <td>3.0</td>\n",
              "      <td>4.200000</td>\n",
              "      <td>5.880000</td>\n",
              "      <td>5.880000</td>\n",
              "      <td>2.520000</td>\n",
              "      <td>2.520000</td>\n",
              "    </tr>\n",
              "  </tbody>\n",
              "</table>\n",
              "</div>"
            ],
            "text/plain": [
              "   NUM_CURSOS  CODIGO_IES  ... RECURSOS_DEF_COGNITIVA RECURSOS_DEF_MULTIPLA\n",
              "0         114           1  ...               0.201754              0.201754\n",
              "1         149           2  ...               1.852349              1.852349\n",
              "2         116           3  ...               0.534483              0.534483\n",
              "3         107           4  ...               0.000000              0.000000\n",
              "4         100           5  ...               2.520000              2.520000\n",
              "\n",
              "[5 rows x 15 columns]"
            ]
          },
          "metadata": {},
          "execution_count": 149
        }
      ]
    },
    {
      "cell_type": "code",
      "metadata": {
        "colab": {
          "base_uri": "https://localhost:8080/"
        },
        "id": "V7QnHl3z-tin",
        "outputId": "1aa8cf7b-6f7d-46a2-e988-6092efc9ef81"
      },
      "source": [
        "# Procurando quantidades de recursos por IES\n",
        "print(\"Qtd máxima: \")\n",
        "print(\"RECURSOS_DEF_FISICA: \", df[\"RECURSOS_DEF_FISICA\"].max())\n",
        "print(\"RECURSOS_DEF_VISUAL: \", df[\"RECURSOS_DEF_VISUAL\"].max())\n",
        "print(\"RECURSOS_DEF_AUDITIVA: \", df[\"RECURSOS_DEF_AUDITIVA\"].max())\n",
        "print(\"RECURSOS_DEF_MULTIPLA: \", df[\"RECURSOS_DEF_MULTIPLA\"].max())\n",
        "print(\"RECURSOS_DEF_COGNITIVA: \", df[\"RECURSOS_DEF_COGNITIVA\"].max())\n",
        "print(\"\\nQtd mínima: \")\n",
        "print(\"RECURSOS_DEF_FISICA: \", df[\"RECURSOS_DEF_FISICA\"].min())\n",
        "print(\"RECURSOS_DEF_VISUAL: \", df[\"RECURSOS_DEF_VISUAL\"].min())\n",
        "print(\"RECURSOS_DEF_AUDITIVA: \", df[\"RECURSOS_DEF_AUDITIVA\"].min())\n",
        "print(\"RECURSOS_DEF_MULTIPLA: \", df[\"RECURSOS_DEF_MULTIPLA\"].min())\n",
        "print(\"RECURSOS_DEF_COGNITIVA: \", df[\"RECURSOS_DEF_COGNITIVA\"].min())"
      ],
      "execution_count": 137,
      "outputs": [
        {
          "output_type": "stream",
          "name": "stdout",
          "text": [
            "Qtd máxima: \n",
            "RECURSOS_DEF_FISICA:  6.0\n",
            "RECURSOS_DEF_VISUAL:  9.0\n",
            "RECURSOS_DEF_AUDITIVA:  8.0\n",
            "RECURSOS_DEF_MULTIPLA:  4.0\n",
            "RECURSOS_DEF_COGNITIVA:  4.0\n",
            "\n",
            "Qtd mínima: \n",
            "RECURSOS_DEF_FISICA:  0.0\n",
            "RECURSOS_DEF_VISUAL:  0.0\n",
            "RECURSOS_DEF_AUDITIVA:  0.0\n",
            "RECURSOS_DEF_MULTIPLA:  0.0\n",
            "RECURSOS_DEF_COGNITIVA:  0.0\n"
          ]
        }
      ]
    },
    {
      "cell_type": "code",
      "metadata": {
        "colab": {
          "base_uri": "https://localhost:8080/"
        },
        "id": "GkEv7_IzneXQ",
        "outputId": "8df518fc-8c27-40bb-c5ae-31dd76015445"
      },
      "source": [
        "#df.head()\n",
        "df.shape"
      ],
      "execution_count": 138,
      "outputs": [
        {
          "output_type": "execute_result",
          "data": {
            "text/plain": [
              "(235, 15)"
            ]
          },
          "metadata": {},
          "execution_count": 138
        }
      ]
    },
    {
      "cell_type": "code",
      "metadata": {
        "colab": {
          "base_uri": "https://localhost:8080/"
        },
        "id": "QYvNIpySmzWS",
        "outputId": "bcd7f8f8-acc7-4047-c9f6-dab98b3a43ad"
      },
      "source": [
        "# Criando categorias baseadas em recursos.\n",
        "# Recursos mínimos ou sem recursos = 0 - 2\n",
        "# Recursos médios = 3 - 6\n",
        "# Recursos altos = 6 - 9\n",
        "\n",
        "#df[\"RECURSOS_DEF_FISICA\"] = df[\"RECURSOS_DEF_FISICA\"].astype(str)\n",
        "\n",
        "from decimal import Decimal\n",
        "df = pd.read_csv(\"dados_ies_sem_nan_sem_privadas_especial_utf8.csv\", index_col=0, encoding=\"latin-1\")\n",
        "\n",
        "recursosFisicaClasses = []\n",
        "recursosAuditivaClasses = []\n",
        "recursosVisualClasses = []\n",
        "recursosMultiplaClasses = []\n",
        "recursosCognitivaClasses = []\n",
        "\n",
        "classe0 = 0\n",
        "classe1 = 0\n",
        "classe2 = 0\n",
        "\n",
        "for r in range(len(df[\"RECURSOS_DEF_FISICA\"])):\n",
        "  if df.iat[r, 10] <= 0.3:\n",
        "    recursosFisicaClasses.append(0)\n",
        "    #classe0 += 1\n",
        "  elif df.iat[r, 10] > 0.3 and df.iat[r, 10] <= 1.8:\n",
        "    recursosFisicaClasses.append(1)\n",
        "    #classe1 += 1\n",
        "  elif df.iat[r, 10] > 1.8:\n",
        "    recursosFisicaClasses.append(2)\n",
        "    #classe2 += 1\n",
        "\n",
        "df[\"CLASSES_DEF_FISICA\"] = recursosFisicaClasses\n",
        "#df.head()\n",
        "#print(classe0)\n",
        "#print(classe1)\n",
        "#print(classe2)\n",
        "i = 0\n",
        "for r in range(len(df[\"RECURSOS_DEF_VISUAL\"])):\n",
        "  #i += 1\n",
        "  '''if df.iat[r, 11] <= 0.3:\n",
        "    recursosVisualClasses.append(0)\n",
        "    classe0 += 1\n",
        "  if df.iat[r, 11] > 0.3 and df.iat[r, 10] <= 1.8:\n",
        "    recursosVisualClasses.append(1)\n",
        "    classe1 += 1'''\n",
        "  if df.iat[r, 11] > 1.8:\n",
        "    i += 1\n",
        "    recursosVisualClasses.append(2)\n",
        "    classe2 += 1\n",
        "\n",
        "print(len(recursosVisualClasses))\n",
        "print(classe0)\n",
        "print(classe1)\n",
        "print(classe2)\n",
        "print(i)\n",
        "\n",
        "#df[\"CLASSES_DEF_VISUAL\"] = recursosVisualClasses"
      ],
      "execution_count": 188,
      "outputs": [
        {
          "output_type": "stream",
          "name": "stdout",
          "text": [
            "82\n",
            "0\n",
            "0\n",
            "82\n",
            "82\n"
          ]
        }
      ]
    }
  ]
}