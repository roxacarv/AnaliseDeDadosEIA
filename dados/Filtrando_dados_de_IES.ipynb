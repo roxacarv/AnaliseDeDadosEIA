{
  "nbformat": 4,
  "nbformat_minor": 0,
  "metadata": {
    "colab": {
      "name": "Filtrando dados de IES.ipynb",
      "provenance": [],
      "authorship_tag": "ABX9TyPrWvMBhKHl/pv/qDFnE8zE",
      "include_colab_link": true
    },
    "kernelspec": {
      "name": "python3",
      "display_name": "Python 3"
    },
    "language_info": {
      "name": "python"
    }
  },
  "cells": [
    {
      "cell_type": "markdown",
      "metadata": {
        "id": "view-in-github",
        "colab_type": "text"
      },
      "source": [
        "<a href=\"https://colab.research.google.com/github/roxacarv/AnaliseDeDadosEIA/blob/master/dados/Filtrando_dados_de_IES.ipynb\" target=\"_parent\"><img src=\"https://colab.research.google.com/assets/colab-badge.svg\" alt=\"Open In Colab\"/></a>"
      ]
    },
    {
      "cell_type": "markdown",
      "metadata": {
        "id": "MW48Pj5A-cio"
      },
      "source": [
        "# Mesclando categorias administrativas"
      ]
    },
    {
      "cell_type": "code",
      "metadata": {
        "id": "3HQC_tB65cLL"
      },
      "source": [
        "import numpy as np\n",
        "import pandas as pd\n",
        "\n",
        "df = pd.read_csv(\"dados_ies_sem_nan_sem_privadas_especial_utf8.csv\", index_col=0, encoding=\"latin-1\")\n",
        "\n",
        "for c in range(len(df[\"TIPO_CATEGORIA_ADM\"])):\n",
        "  if df.iat[c, 2] == \"PÃºblica Municipal\":\n",
        "    df.iat[c, 2] = \"PÃºblica Estadual\"\n",
        "\n",
        "for c in range(len(df[\"TIPO_CATEGORIA_ADM\"])):\n",
        "  if df.iat[c, 2] == \"PÃºblica Estadual\":\n",
        "    df.iat[c, 2] = \"Sub-Nacional\"\n",
        "  if df.iat[c, 2] == \"PÃºblica Federal\":\n",
        "    df.iat[c, 2] = \"Nacional\"\n",
        "\n",
        "df.to_csv(\"dados_ies_novas_categorias_utf8.csv\", encoding=\"utf8\")"
      ],
      "execution_count": 45,
      "outputs": []
    },
    {
      "cell_type": "markdown",
      "metadata": {
        "id": "q657S80I-WPM"
      },
      "source": [
        "# Gerando categorias por quantidade de recursos"
      ]
    },
    {
      "cell_type": "code",
      "metadata": {
        "id": "QZEPgk5C-bja"
      },
      "source": [
        "df = pd.read_csv(\"dados_ies_sem_nan_sem_privadas_especial_utf8.csv\", index_col=0, encoding=\"latin-1\")"
      ],
      "execution_count": null,
      "outputs": []
    },
    {
      "cell_type": "code",
      "metadata": {
        "colab": {
          "base_uri": "https://localhost:8080/"
        },
        "id": "V7QnHl3z-tin",
        "outputId": "e5f05ffa-7f10-4dc3-96c4-27271f89bc61"
      },
      "source": [
        "# Procurando quantidades de recursos por IES\n",
        "print(\"Qtd máxima: \")\n",
        "print(\"RECURSOS_DEF_FISICA: \", df[\"RECURSOS_DEF_FISICA\"].max())\n",
        "print(\"RECURSOS_DEF_VISUAL: \", df[\"RECURSOS_DEF_VISUAL\"].max())\n",
        "print(\"RECURSOS_DEF_AUDITIVA: \", df[\"RECURSOS_DEF_AUDITIVA\"].max())\n",
        "print(\"RECURSOS_DEF_MULTIPLA: \", df[\"RECURSOS_DEF_MULTIPLA\"].max())\n",
        "print(\"RECURSOS_DEF_COGNITIVA: \", df[\"RECURSOS_DEF_COGNITIVA\"].max())\n",
        "print(\"\\nQtd mínima: \")\n",
        "print(\"RECURSOS_DEF_FISICA: \", df[\"RECURSOS_DEF_FISICA\"].min())\n",
        "print(\"RECURSOS_DEF_VISUAL: \", df[\"RECURSOS_DEF_VISUAL\"].min())\n",
        "print(\"RECURSOS_DEF_AUDITIVA: \", df[\"RECURSOS_DEF_AUDITIVA\"].min())\n",
        "print(\"RECURSOS_DEF_MULTIPLA: \", df[\"RECURSOS_DEF_MULTIPLA\"].min())\n",
        "print(\"RECURSOS_DEF_COGNITIVA: \", df[\"RECURSOS_DEF_COGNITIVA\"].min())"
      ],
      "execution_count": 53,
      "outputs": [
        {
          "output_type": "stream",
          "name": "stdout",
          "text": [
            "Qtd máxima: \n",
            "RECURSOS_DEF_FISICA:  6.0\n",
            "RECURSOS_DEF_VISUAL:  9.0\n",
            "RECURSOS_DEF_AUDITIVA:  8.0\n",
            "RECURSOS_DEF_MULTIPLA:  4.0\n",
            "RECURSOS_DEF_COGNITIVA:  4.0\n",
            "\n",
            "Qtd mínima: \n",
            "RECURSOS_DEF_FISICA:  0.0\n",
            "RECURSOS_DEF_VISUAL:  0.0\n",
            "RECURSOS_DEF_AUDITIVA:  0.0\n",
            "RECURSOS_DEF_MULTIPLA:  0.0\n",
            "RECURSOS_DEF_COGNITIVA:  0.0\n"
          ]
        }
      ]
    }
  ]
}